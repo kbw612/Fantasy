{
  "nbformat": 4,
  "nbformat_minor": 0,
  "metadata": {
    "colab": {
      "provenance": [],
      "authorship_tag": "ABX9TyM068KVxA8dYqrHD4kD5ee8",
      "include_colab_link": true
    },
    "kernelspec": {
      "name": "python3",
      "display_name": "Python 3"
    },
    "language_info": {
      "name": "python"
    }
  },
  "cells": [
    {
      "cell_type": "markdown",
      "metadata": {
        "id": "view-in-github",
        "colab_type": "text"
      },
      "source": [
        "<a href=\"https://colab.research.google.com/github/kbw612/Fantasy/blob/main/colab/ADP_to_Draft_Position.ipynb\" target=\"_parent\"><img src=\"https://colab.research.google.com/assets/colab-badge.svg\" alt=\"Open In Colab\"/></a>"
      ]
    },
    {
      "cell_type": "code",
      "execution_count": 4,
      "metadata": {
        "colab": {
          "base_uri": "https://localhost:8080/"
        },
        "id": "U0fIYOT5-j0t",
        "outputId": "72776db2-e9d8-45e7-c47e-b42c06a84514"
      },
      "outputs": [
        {
          "output_type": "stream",
          "name": "stdout",
          "text": [
            "9.04\n"
          ]
        }
      ],
      "source": [
        "import math\n",
        "\n",
        "def convert_adp_to_draft_postion(adp, nbr_of_teams):\n",
        "    ceiling_value = math.ceil(adp / nbr_of_teams)\n",
        "    remainder = adp - nbr_of_teams * (ceiling_value - 1)\n",
        "    result = ceiling_value + 0.01 * remainder\n",
        "    return result\n",
        "\n",
        "adp = 100\n",
        "result = convert_adp_to_draft_postion(adp, 12)\n",
        "print(result)\n"
      ]
    }
  ]
}